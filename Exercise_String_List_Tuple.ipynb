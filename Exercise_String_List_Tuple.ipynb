{
 "cells": [
  {
   "cell_type": "code",
   "execution_count": 5,
   "metadata": {},
   "outputs": [
    {
     "name": "stdout",
     "output_type": "stream",
     "text": [
      "same@new.com\n"
     ]
    }
   ],
   "source": [
    "email = \"same@old.com\"\n",
    "\n",
    "old='old.com'\n",
    "new='new.com'\n",
    "replace=email.replace(old, new)\n",
    "print(replace)"
   ]
  },
  {
   "cell_type": "code",
   "execution_count": 11,
   "metadata": {},
   "outputs": [
    {
     "name": "stdout",
     "output_type": "stream",
     "text": [
      "hi\n"
     ]
    }
   ],
   "source": [
    "x= \"this is a string\"\n",
    "print(x[1]+x[2])"
   ]
  },
  {
   "cell_type": "code",
   "execution_count": 15,
   "metadata": {},
   "outputs": [
    {
     "name": "stdout",
     "output_type": "stream",
     "text": [
      "[0, 1, 2, 3, 4, 5, 6, 7, 8, 9]\n"
     ]
    }
   ],
   "source": [
    "a=[1, 2,3, 4]\n",
    "a.insert(0,0)\n",
    "b=[5,6,7,8]\n",
    "b.insert(4,9)\n",
    "sum=a+ b\n",
    "print(sum)"
   ]
  },
  {
   "cell_type": "code",
   "execution_count": 18,
   "metadata": {},
   "outputs": [
    {
     "name": "stdout",
     "output_type": "stream",
     "text": [
      "a --> b --> c --> d --> this is a string\n"
     ]
    }
   ],
   "source": [
    "c=['a', 'b', 'c', 'd','this is a string']\n",
    "C=\" --> \".join(c)\n",
    "print(C)"
   ]
  },
  {
   "cell_type": "code",
   "execution_count": 20,
   "metadata": {},
   "outputs": [
    {
     "name": "stdout",
     "output_type": "stream",
     "text": [
      "t --> h --> i --> s --> i --> s --> a --> s --> t --> r --> i --> n --> g\n"
     ]
    }
   ],
   "source": [
    "d='thisisastring'\n",
    "D=\" --> \".join(d)\n",
    "\n",
    "print(D)"
   ]
  },
  {
   "cell_type": "code",
   "execution_count": 2,
   "metadata": {},
   "outputs": [
    {
     "name": "stdout",
     "output_type": "stream",
     "text": [
      "('this was a kong journey', ['this', 'was', 'a', 'long', 'hardfought', 'journey'], 'this was a long hardfought journey')\n",
      "this was a kong journey ['this', 'was', 'a', 'long', 'hardfought', 'journey'] this was a long hardfought journey\n"
     ]
    }
   ],
   "source": [
    "def abcd(string):\n",
    "\n",
    "  list=string.split()\n",
    "  list[3]='long'\n",
    "  list[4]='hardfought'\n",
    "  list.append('journey')\n",
    "  newstring=\" \".join(list)\n",
    "  return string, list, newstring\n",
    "result=abcd('this was a kong journey')\n",
    "print(result)\n",
    "string, list, newstring=result\n",
    "print(string, list, newstring)\n"
   ]
  },
  {
   "cell_type": "code",
   "execution_count": 3,
   "metadata": {},
   "outputs": [
    {
     "name": "stdout",
     "output_type": "stream",
     "text": [
      "['wombat', 'salamender', 'goat', 'unicorn']\n"
     ]
    }
   ],
   "source": [
    "animals=['salamender', 'goat', 'unicorn']\n",
    "chars=[]\n",
    "for animal in animals:\n",
    "  \n",
    "  chars.append(animal)\n",
    "chars.insert(0,'wombat')\n",
    "print(chars)"
   ]
  },
  {
   "cell_type": "code",
   "execution_count": 21,
   "metadata": {},
   "outputs": [
    {
     "name": "stdout",
     "output_type": "stream",
     "text": [
      "[(0, 'ape'), (1, 'bear'), (2, 'chipmunk')]\n"
     ]
    }
   ],
   "source": [
    "animals = ['ape', 'bear', 'chipmunk']\n",
    "enumerated_list=(enumerate(animals))\n",
    "listoftuples=[]\n",
    "for index, item in enumerated_list:\n",
    "  listoftuples.append((index, item))\n",
    "print(listoftuples)"
   ]
  }
 ],
 "metadata": {
  "kernelspec": {
   "display_name": "Python 3",
   "language": "python",
   "name": "python3"
  },
  "language_info": {
   "codemirror_mode": {
    "name": "ipython",
    "version": 3
   },
   "file_extension": ".py",
   "mimetype": "text/x-python",
   "name": "python",
   "nbconvert_exporter": "python",
   "pygments_lexer": "ipython3",
   "version": "3.11.4"
  },
  "orig_nbformat": 4
 },
 "nbformat": 4,
 "nbformat_minor": 2
}
